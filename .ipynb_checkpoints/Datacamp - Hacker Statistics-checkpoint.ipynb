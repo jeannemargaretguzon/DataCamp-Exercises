{
 "cells": [
  {
   "cell_type": "markdown",
   "id": "1346f8d3",
   "metadata": {},
   "source": [
    "You're walking up the empire state building to DataCamp HeadQuarters and you're playing a game with a friend. You throw a die one hundred times.\n",
    "\n",
    "If it's 1 or 2 you'll go one step down.\n",
    "If it's 3, 4, or 5, you'll go one step up.\n",
    "If you throw a 6, you'll throw the die again and will walk up the resulting number of steps."
   ]
  },
  {
   "cell_type": "code",
   "execution_count": 1,
   "id": "0d1be14b",
   "metadata": {},
   "outputs": [],
   "source": [
    "import numpy as np\n",
    "import matplotlib.pyplot as plt"
   ]
  },
  {
   "cell_type": "markdown",
   "id": "d190d40e",
   "metadata": {},
   "source": [
    "Calculates your location in the Empire State Building after 100 dice throws. "
   ]
  },
  {
   "cell_type": "code",
   "execution_count": 2,
   "id": "ab52af5b",
   "metadata": {},
   "outputs": [
    {
     "name": "stdout",
     "output_type": "stream",
     "text": [
      "[0, 1, 2, 3, 2, 1, 2, 1, 0, 1, 2, 1, 7, 6, 7, 6, 8, 9, 8, 14, 13, 12, 15, 14, 15, 16, 15, 16, 15, 14, 15, 16, 17, 18, 17, 16, 15, 18, 19, 20, 21, 22, 23, 27, 28, 27, 28, 27, 32, 31, 32, 33, 38, 39, 40, 41, 42, 43, 49, 50, 51, 50, 56, 57, 56, 55, 56, 57, 58, 59, 58, 57, 56, 55, 54, 55, 54, 55, 59, 60, 66, 67, 66, 71, 70, 69, 73, 75, 74, 75, 76, 77, 78, 79, 80, 86, 87, 86, 85, 86, 90]\n"
     ]
    }
   ],
   "source": [
    "# List of steps\n",
    "random_walk = [0]\n",
    "\n",
    "for x in range(100) :\n",
    "    # Set step: last element in random_walk\n",
    "    step = random_walk[-1]\n",
    "    # Roll the dice\n",
    "    dice = np.random.randint(1,7)\n",
    "    \n",
    "    # Determine next step\n",
    "    if dice <= 2:\n",
    "        step = max(0, step - 1) # To make sure we dont get below 0\n",
    "    elif dice <= 5:\n",
    "        step = step + 1\n",
    "    else:\n",
    "        step = step + np.random.randint(1,7)\n",
    "    \n",
    "    # append next_step to random_walk\n",
    "    random_walk.append(step)\n",
    "\n",
    "print(random_walk)"
   ]
  },
  {
   "cell_type": "markdown",
   "id": "b0c778a7",
   "metadata": {},
   "source": [
    "Calculating the chance that you'll reach ?? steps high by simulating the dice 500 times"
   ]
  },
  {
   "cell_type": "code",
   "execution_count": null,
   "id": "e49035c0",
   "metadata": {},
   "outputs": [],
   "source": [
    "# To collect the list of results\n",
    "all_walks = []\n",
    "\n",
    "# Simulate random walk 500 times\n",
    "for i in range(500) :\n",
    "    random_walk = [0]\n",
    "    for x in range(100) :\n",
    "        step = random_walk[-1]\n",
    "        dice = np.random.randint(1,7)\n",
    "        if dice <= 2:\n",
    "            step = max(0, step - 1)\n",
    "        elif dice <= 5:\n",
    "            step = step + 1\n",
    "        else:\n",
    "            step = step + np.random.randint(1,7)\n",
    "        if np.random.rand() <= 0.001 :\n",
    "            step = 0\n",
    "        random_walk.append(step)\n",
    "    \n",
    "    all_walks.append(random_walk)"
   ]
  },
  {
   "cell_type": "code",
   "execution_count": 6,
   "id": "1d7a9861",
   "metadata": {},
   "outputs": [
    {
     "data": {
      "image/png": "[encoded data removed]",
      "text/plain": [
       "<Figure size 432x288 with 1 Axes>"
      ]
     },
     "metadata": {
      "needs_background": "light"
     },
     "output_type": "display_data"
    }
   ],
   "source": [
    "# Now every row in np_all_walks represents the position after 1 throw for the 10 random walks.\n",
    "# Create and plot np_aw_t\n",
    "np_aw_t = np.transpose(np.array(all_walks))\n",
    "\n",
    "# This contains the endpoint of all 500 random walks you've simulated. \n",
    "# Select last row from np_aw_t: ends\n",
    "ends = np_aw_t[-1, :]\n",
    "\n",
    "# Plot histogram of ends, display plot\n",
    "plt.hist(ends)\n",
    "plt.show()"
   ]
  },
  {
   "cell_type": "code",
   "execution_count": 9,
   "id": "b0f5ed39",
   "metadata": {},
   "outputs": [
    {
     "data": {
      "text/plain": [
       "0.753"
      ]
     },
     "execution_count": 9,
     "metadata": {},
     "output_type": "execute_result"
    }
   ],
   "source": [
    "# The probability of reaching 60 steps high\n",
    "np.mean(ends > 60)"
   ]
  },
  {
   "cell_type": "markdown",
   "id": "361328d2",
   "metadata": {},
   "source": [
    "Calculating the frequency of getting a certain number in the dice"
   ]
  },
  {
   "cell_type": "code",
   "execution_count": 12,
   "id": "616405d0",
   "metadata": {},
   "outputs": [],
   "source": [
    "# To collect the list of results\n",
    "final_tails = []\n",
    "\n",
    "# Calculate the list\n",
    "for x in range (1000000):\n",
    "    tails = [0]\n",
    "    for x in range(10):\n",
    "        coin = np.random.randint(0,2)\n",
    "        tails.append(tails[x] + coin)\n",
    "    final_tails.append(tails[-1])"
   ]
  },
  {
   "cell_type": "code",
   "execution_count": 16,
   "id": "6e9b0450",
   "metadata": {},
   "outputs": [
    {
     "data": {
      "image/png": "[encoded data removed]",
      "text/plain": [
       "<Figure size 432x288 with 1 Axes>"
      ]
     },
     "metadata": {
      "needs_background": "light"
     },
     "output_type": "display_data"
    }
   ],
   "source": [
    "plt.hist(final_tails, bins = 10)\n",
    "plt.title('Probability with Dice')\n",
    "plt.xlabel('Dice Outcomes')\n",
    "plt.ylabel('Number of steps taken')\n",
    "plt.show()"
   ]
  }
 ],
 "metadata": {
  "kernelspec": {
   "display_name": "Python 3",
   "language": "python",
   "name": "python3"
  },
  "language_info": {
   "codemirror_mode": {
    "name": "ipython",
    "version": 3
   },
   "file_extension": ".py",
   "mimetype": "text/x-python",
   "name": "python",
   "nbconvert_exporter": "python",
   "pygments_lexer": "ipython3",
   "version": "3.8.8"
  }
 },
 "nbformat": 4,
 "nbformat_minor": 5
}
