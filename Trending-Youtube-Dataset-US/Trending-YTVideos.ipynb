{
 "cells": [
  {
   "cell_type": "markdown",
   "id": "84352452",
   "metadata": {},
   "source": [
    "# Trending YouTube Video Statistics\n",
    "    Daily statistics for trending YouTube videos\n",
    "    Source: https://www.kaggle.com/datasnaek/youtube-new\n",
    "\n",
    "    Inspiration for uses of dataset\n",
    "        Finding correlation of likes and views\n",
    "        Categorising YouTube videos based on their comments and statistics\n",
    "        Analysing what factors affect how popular a YouTube video will be"
   ]
  },
  {
   "cell_type": "code",
   "execution_count": 8,
   "id": "2dc34687",
   "metadata": {},
   "outputs": [],
   "source": [
    "import numpy as np\n",
    "import pandas as pd\n",
    "import seaborn as sns\n",
    "import matplotlib.pyplot as plt"
   ]
  },
  {
   "cell_type": "markdown",
   "id": "8eb9efad",
   "metadata": {},
   "source": [
    "# US Data"
   ]
  },
  {
   "cell_type": "code",
   "execution_count": null,
   "id": "b789b5a1",
   "metadata": {},
   "outputs": [],
   "source": [
    "US_trend = pd.read_csv(r'C:\\Users\\jeann\\Github\\data-science-exercises\\Trending-Youtube-Dataset-US\\USvideos.csv')\n",
    "US_trend"
   ]
  },
  {
   "cell_type": "code",
   "execution_count": 6,
   "id": "cb541f20",
   "metadata": {},
   "outputs": [
    {
     "name": "stdout",
     "output_type": "stream",
     "text": [
      "<class 'pandas.core.frame.DataFrame'>\n",
      "RangeIndex: 40949 entries, 0 to 40948\n",
      "Data columns (total 16 columns):\n",
      " #   Column                  Non-Null Count  Dtype \n",
      "---  ------                  --------------  ----- \n",
      " 0   video_id                40949 non-null  object\n",
      " 1   trending_date           40949 non-null  object\n",
      " 2   title                   40949 non-null  object\n",
      " 3   channel_title           40949 non-null  object\n",
      " 4   category_id             40949 non-null  int64 \n",
      " 5   publish_time            40949 non-null  object\n",
      " 6   tags                    40949 non-null  object\n",
      " 7   views                   40949 non-null  int64 \n",
      " 8   likes                   40949 non-null  int64 \n",
      " 9   dislikes                40949 non-null  int64 \n",
      " 10  comment_count           40949 non-null  int64 \n",
      " 11  thumbnail_link          40949 non-null  object\n",
      " 12  comments_disabled       40949 non-null  bool  \n",
      " 13  ratings_disabled        40949 non-null  bool  \n",
      " 14  video_error_or_removed  40949 non-null  bool  \n",
      " 15  description             40379 non-null  object\n",
      "dtypes: bool(3), int64(5), object(8)\n",
      "memory usage: 4.2+ MB\n"
     ]
    }
   ],
   "source": [
    "US_trend.info()"
   ]
  },
  {
   "cell_type": "code",
   "execution_count": 7,
   "id": "5924e7c4",
   "metadata": {},
   "outputs": [
    {
     "data": {
      "text/plain": [
       "video_id                    0\n",
       "trending_date               0\n",
       "title                       0\n",
       "channel_title               0\n",
       "category_id                 0\n",
       "publish_time                0\n",
       "tags                        0\n",
       "views                       0\n",
       "likes                       0\n",
       "dislikes                    0\n",
       "comment_count               0\n",
       "thumbnail_link              0\n",
       "comments_disabled           0\n",
       "ratings_disabled            0\n",
       "video_error_or_removed      0\n",
       "description               570\n",
       "dtype: int64"
      ]
     },
     "execution_count": 7,
     "metadata": {},
     "output_type": "execute_result"
    }
   ],
   "source": [
    "US_trend.isnull().sum() # Identifying Null Values"
   ]
  },
  {
   "cell_type": "markdown",
   "id": "d8f880ea",
   "metadata": {},
   "source": []
  }
 ],
 "metadata": {
  "kernelspec": {
   "display_name": "Python 3",
   "language": "python",
   "name": "python3"
  },
  "language_info": {
   "codemirror_mode": {
    "name": "ipython",
    "version": 3
   },
   "file_extension": ".py",
   "mimetype": "text/x-python",
   "name": "python",
   "nbconvert_exporter": "python",
   "pygments_lexer": "ipython3",
   "version": "3.8.8"
  }
 },
 "nbformat": 4,
 "nbformat_minor": 5
}
